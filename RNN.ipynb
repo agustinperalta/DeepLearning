{
 "cells": [
  {
   "cell_type": "markdown",
   "id": "5683514d",
   "metadata": {},
   "source": [
    "Este Práctico fue realizado por Quiros Agustina, Porcel Carolina y Peralta Agustín"
   ]
  },
  {
   "cell_type": "code",
   "execution_count": 1,
   "id": "b215186d",
   "metadata": {},
   "outputs": [],
   "source": [
    "import gzip\n",
    "import pandas as pd\n",
    "import tempfile\n",
    "import torch\n",
    "import torch.optim as optim\n",
    "import torch.nn as nn\n",
    "import torch.nn.functional as F\n",
    "import bz2\n",
    "import mlflow\n",
    "from gensim import corpora\n",
    "from gensim.parsing import preprocessing\n",
    "from sklearn.model_selection import train_test_split\n",
    "from sklearn.metrics import average_precision_score\n",
    "from sklearn import metrics\n",
    "from sklearn.metrics import balanced_accuracy_score\n",
    "from torch.utils.data import Dataset, DataLoader\n",
    "from tqdm.notebook import tqdm, trange"
   ]
  },
  {
   "cell_type": "code",
   "execution_count": 2,
   "id": "ebc582cd",
   "metadata": {},
   "outputs": [],
   "source": [
    "class MelichanllegeDataset(Dataset):\n",
    "    def __init__(self, dataset, transform=None):\n",
    "        self.dataset = dataset\n",
    "        self.transform = transform\n",
    "    \n",
    "    def __len__(self):\n",
    "        return self.dataset.shape[0]\n",
    "\n",
    "    def __getitem__(self, item):\n",
    "        if torch.is_tensor(item):\n",
    "            item = item.to_list()\n",
    "        \n",
    "        item = {\n",
    "            \"data\": self.dataset.loc[item, \"title\"],\n",
    "            \"target\": self.dataset.loc[item, \"category\"]\n",
    "        }\n",
    "        \n",
    "        if self.transform:\n",
    "            item = self.transform(item)\n",
    "        \n",
    "        return item\n",
    "\n",
    "# dataset = MelichanllegeDataset(\"/users/aperalta/Practicos/Practico_1/meli-challenge-2019/spanish.train.jsonl\")\n",
    "# print(f\"Dataset loaded with {len(dataset)} elements\")\n",
    "# print(f\"Sample element:\\n{dataset[0]}\")"
   ]
  },
  {
   "cell_type": "code",
   "execution_count": 3,
   "id": "df06dd01",
   "metadata": {},
   "outputs": [],
   "source": [
    "class RawDataProcessor:\n",
    "    def __init__(self, \n",
    "                 dataset, \n",
    "                 ignore_header=True, \n",
    "                 filters=None, \n",
    "                 vocab_size=50000):\n",
    "        if filters:\n",
    "            self.filters = filters\n",
    "        else:\n",
    "            self.filters = [\n",
    "                lambda s: s.lower(),\n",
    "                preprocessing.strip_tags,\n",
    "                preprocessing.strip_punctuation,\n",
    "                preprocessing.strip_multiple_whitespaces,\n",
    "                preprocessing.strip_numeric,\n",
    "                preprocessing.remove_stopwords,\n",
    "                preprocessing.strip_short,\n",
    "            ]\n",
    "        \n",
    "        # Create dictionary based on all the reviews (with corresponding preprocessing)\n",
    "        # https://radimrehurek.com/gensim/corpora/dictionary.html\n",
    "        self.dictionary = corpora.Dictionary(\n",
    "            dataset[\"title\"].map(self._preprocess_string).tolist()\n",
    "        )\n",
    "        # Filter the dictionary with extremos words\n",
    "        # https://tedboy.github.io/nlps/generated/generated/gensim.corpora.Dictionary.filter_extremes.html?highlight=filter_extrem\n",
    "        self.dictionary.filter_extremes(no_below=2, no_above=1, keep_n=vocab_size)\n",
    "        \n",
    "        # Make the indices continuous after some words have been removed\n",
    "        # https://tedboy.github.io/nlps/generated/generated/gensim.corpora.Dictionary.compactify.html\n",
    "        self.dictionary.compactify()\n",
    "        \n",
    "        # Add a couple of special tokens\n",
    "        self.dictionary.patch_with_special_tokens({\n",
    "            \"[PAD]\": 0,\n",
    "            \"[UNK]\": 1\n",
    "        })\n",
    "        self.idx_to_target = sorted(dataset[\"category\"].unique())\n",
    "        self.target_to_idx = {t: i for i, t in enumerate(self.idx_to_target)}\n",
    "\n",
    "\n",
    "    def _preprocess_string(self, string):\n",
    "        # https://radimrehurek.com/gensim/parsing/preprocessing.html#gensim.parsing.preprocessing.preprocess_string:~:text=gensim.parsing.preprocessing.preprocess_string\n",
    "        return preprocessing.preprocess_string(string, filters=self.filters)\n",
    "\n",
    "    def _sentence_to_indices(self, sentence):\n",
    "      # https://radimrehurek.com/gensim/corpora/dictionary.html#:~:text=doc2idx(document,via%20unknown_word_index.\n",
    "        return self.dictionary.doc2idx(sentence, unknown_word_index=1)\n",
    "    \n",
    "    def encode_data(self, data):\n",
    "        return self._sentence_to_indices(self._preprocess_string(data))\n",
    "    \n",
    "    def encode_target(self, target):\n",
    "        return self.target_to_idx[target]\n",
    "    \n",
    "    def __call__(self, item):\n",
    "        if isinstance(item[\"data\"], str):\n",
    "            data = self.encode_data(item[\"data\"])\n",
    "        else:\n",
    "            data = [self.encode_data(d) for d in item[\"data\"]]\n",
    "        \n",
    "        if isinstance(item[\"target\"], str):\n",
    "            target = self.encode_target(item[\"target\"])\n",
    "        else:\n",
    "            target = [self.encode_target(t) for t in item[\"target\"]]\n",
    "        \n",
    "        return {\n",
    "            \"data\": data,\n",
    "            \"target\": target\n",
    "        }"
   ]
  },
  {
   "cell_type": "code",
   "execution_count": 4,
   "id": "aac0cb2b",
   "metadata": {},
   "outputs": [],
   "source": [
    "dataset_train = pd.read_json(\"/users/aperalta/Practicos/Practico_1/meli-challenge-2019/spanish.train.jsonl\",lines=True, orient='records')"
   ]
  },
  {
   "cell_type": "code",
   "execution_count": 5,
   "id": "3710c85f",
   "metadata": {},
   "outputs": [],
   "source": [
    "dataset_test = pd.read_json(\"/users/aperalta/Practicos/Practico_1/meli-challenge-2019/spanish.validation.jsonl\",lines=True, orient='records')"
   ]
  },
  {
   "cell_type": "code",
   "execution_count": 6,
   "id": "d3b27bfe",
   "metadata": {},
   "outputs": [],
   "source": [
    "dataset_val = pd.read_json(\"/users/aperalta/Practicos/Practico_1/meli-challenge-2019/spanish.test.jsonl\",lines=True, orient='records')"
   ]
  },
  {
   "cell_type": "code",
   "execution_count": 7,
   "id": "3f67f7f5",
   "metadata": {},
   "outputs": [],
   "source": [
    "dataset = pd.concat([dataset_train,dataset_test])"
   ]
  },
  {
   "cell_type": "code",
   "execution_count": 8,
   "id": "cdaefd80",
   "metadata": {},
   "outputs": [],
   "source": [
    "preprocess = RawDataProcessor(dataset)"
   ]
  },
  {
   "cell_type": "code",
   "execution_count": 9,
   "id": "b2288124",
   "metadata": {},
   "outputs": [],
   "source": [
    "train_dataset = MelichanllegeDataset(dataset_train, transform=preprocess)"
   ]
  },
  {
   "cell_type": "code",
   "execution_count": 10,
   "id": "cd2f2eda",
   "metadata": {},
   "outputs": [],
   "source": [
    "test_dataset = MelichanllegeDataset(dataset_test, transform=preprocess)"
   ]
  },
  {
   "cell_type": "code",
   "execution_count": 11,
   "id": "9ce0d9f1",
   "metadata": {},
   "outputs": [],
   "source": [
    "val_dataset = MelichanllegeDataset(dataset_val, transform=preprocess)"
   ]
  },
  {
   "cell_type": "code",
   "execution_count": 12,
   "id": "02960cb0",
   "metadata": {},
   "outputs": [],
   "source": [
    "class PadSequences:\n",
    "    def __init__(self, pad_value=0, max_length=None, min_length=1):\n",
    "        assert max_length is None or min_length <= max_length\n",
    "        self.pad_value = pad_value\n",
    "        self.max_length = max_length\n",
    "        self.min_length = min_length\n",
    "\n",
    "    def __call__(self, items):\n",
    "        data, target = list(zip(*[(item[\"data\"], item[\"target\"]) for item in items]))\n",
    "        seq_lengths = [len(d) for d in data]\n",
    "\n",
    "        if self.max_length:\n",
    "            max_length = self.max_length\n",
    "            seq_lengths = [min(self.max_length, l) for l in seq_lengths]\n",
    "        else:\n",
    "            max_length = max(self.min_length, max(seq_lengths))\n",
    "\n",
    "        data = [d[:l] + [self.pad_value] * (max_length - l)\n",
    "                for d, l in zip(data, seq_lengths)]\n",
    "            \n",
    "        return {\n",
    "            \"data\": torch.LongTensor(data),\n",
    "            \"target\": torch.FloatTensor(target)\n",
    "        }"
   ]
  },
  {
   "cell_type": "code",
   "execution_count": 13,
   "id": "f0b5bf9b",
   "metadata": {},
   "outputs": [],
   "source": [
    "pad_sequences = PadSequences()\n",
    "train_loader = DataLoader(train_dataset, batch_size=64, shuffle=True,\n",
    "                          collate_fn=pad_sequences, drop_last=False, num_workers = 0)\n",
    "test_loader = DataLoader(test_dataset, batch_size=64, shuffle=False,\n",
    "                         collate_fn=pad_sequences, drop_last=False, num_workers = 0)\n",
    "val_loader = DataLoader(val_dataset, batch_size=64, shuffle=False,\n",
    "                         collate_fn=pad_sequences, drop_last=False, num_workers = 0)"
   ]
  },
  {
   "cell_type": "code",
   "execution_count": 14,
   "id": "408b9e51",
   "metadata": {},
   "outputs": [],
   "source": [
    "class MeliLSTM(nn.Module):\n",
    "    def __init__(self,\n",
    "                 pretrained_embeddings_path, dictionary, embedding_size,\n",
    "                 hidden_layer=32,\n",
    "                 num_layers=1, dropout=0., bias=True,\n",
    "                 bidirectional=False,\n",
    "                 freeze_embedings=True):\n",
    "        \n",
    "        super(MeliLSTM, self).__init__()\n",
    "        output_size = 632\n",
    "        # Create the Embeddings layer and add pre-trained weights\n",
    "        embeddings_matrix = torch.randn(len(dictionary), embedding_size)\n",
    "        embeddings_matrix[0] = torch.zeros(embedding_size)\n",
    "        with bz2.open(pretrained_embeddings_path, \"rt\") as fh:\n",
    "            for line in fh:\n",
    "                word, vector = line.strip().split(None, 1)\n",
    "                if word in dictionary.token2id:\n",
    "                    embeddings_matrix[dictionary.token2id[word]] =\\\n",
    "                        torch.FloatTensor([float(n) for n in vector.split()])\n",
    "        self.embedding_config = {'freeze': freeze_embedings,\n",
    "                                  'padding_idx': 0}\n",
    "        self.embeddings = nn.Embedding.from_pretrained(\n",
    "            embeddings_matrix, **self.embedding_config)\n",
    "        \n",
    "        # Set our LSTM parameters\n",
    "        self.lstm_config = {'input_size': embedding_size,\n",
    "                            'hidden_size': hidden_layer,\n",
    "                            'num_layers': num_layers,\n",
    "                            'bias': bias,\n",
    "                            'batch_first': True,\n",
    "                            'dropout': dropout,\n",
    "                            'bidirectional': bidirectional}\n",
    "        \n",
    "        # Set our fully connected layer parameters\n",
    "        self.linear_config = {'in_features': hidden_layer,\n",
    "                              'out_features': output_size,\n",
    "                              'bias': bias}\n",
    "        \n",
    "        # Instanciate the layers\n",
    "        self.lstm = nn.LSTM(**self.lstm_config)\n",
    "        self.classification_layer = nn.Linear(**self.linear_config)\n",
    "        #self.activation = nn.Sigmoid()\n",
    "\n",
    "    def forward(self, inputs):\n",
    "        emb = self.embeddings(inputs)\n",
    "        # print(emb.shape)\n",
    "        lstm_out, _ = self.lstm(emb)\n",
    "        # print(lstm_out.shape)\n",
    "        # Take last state of lstm, which is a representation of\n",
    "        # the entire text\n",
    "        lstm_out = lstm_out[:, -1, :].squeeze()\n",
    "        # print(lstm_out.shape)\n",
    "        predictions = self.classification_layer(lstm_out)\n",
    "        # print(prediction.shape)\n",
    "        return predictions"
   ]
  },
  {
   "cell_type": "code",
   "execution_count": 15,
   "id": "24ecfa1a",
   "metadata": {},
   "outputs": [
    {
     "name": "stdout",
     "output_type": "stream",
     "text": [
      "MeliLSTM(\n",
      "  (embeddings): Embedding(50002, 300, padding_idx=0)\n",
      "  (lstm): LSTM(300, 64, batch_first=True, dropout=0.1)\n",
      "  (classification_layer): Linear(in_features=64, out_features=632, bias=True)\n",
      ")\n"
     ]
    },
    {
     "name": "stderr",
     "output_type": "stream",
     "text": [
      "/users/aperalta/miniconda3/envs/deeplearning/lib/python3.9/site-packages/torch/nn/modules/rnn.py:62: UserWarning: dropout option adds dropout after all but last recurrent layer, so non-zero dropout expects num_layers greater than 1, but got dropout=0.1 and num_layers=1\n",
      "  warnings.warn(\"dropout option adds dropout after all but last \"\n"
     ]
    }
   ],
   "source": [
    "model = MeliLSTM(\n",
    "    \"/users/aperalta/Practicos/Practico_1/data/SBW-vectors-300-min5.txt.bz2\", preprocess.dictionary,\n",
    "    embedding_size=300,\n",
    "    hidden_layer=64,\n",
    "    num_layers=1,\n",
    "    dropout=0.1\n",
    ")\n",
    "print(model)"
   ]
  },
  {
   "cell_type": "code",
   "execution_count": 16,
   "id": "24dd0ceb",
   "metadata": {},
   "outputs": [],
   "source": [
    "device = torch.device(\"cuda:0\" if torch.cuda.is_available() else \"cpu\")"
   ]
  },
  {
   "cell_type": "code",
   "execution_count": 17,
   "id": "5ab1d0b0",
   "metadata": {},
   "outputs": [
    {
     "data": {
      "text/plain": [
       "MeliLSTM(\n",
       "  (embeddings): Embedding(50002, 300, padding_idx=0)\n",
       "  (lstm): LSTM(300, 64, batch_first=True, dropout=0.1)\n",
       "  (classification_layer): Linear(in_features=64, out_features=632, bias=True)\n",
       ")"
      ]
     },
     "execution_count": 17,
     "metadata": {},
     "output_type": "execute_result"
    }
   ],
   "source": [
    "model.to(device)"
   ]
  },
  {
   "cell_type": "code",
   "execution_count": 18,
   "id": "cf7e9b65",
   "metadata": {},
   "outputs": [],
   "source": [
    "def train_and_eval(model, optimizer, loss_function, trainloader, epochs,\n",
    "                   valloader, use_tqdm=True):\n",
    "    history = {'train_loss': [], 'val_loss': [], 'val_b_accuracy': []}\n",
    "    for epoch in range(epochs):  # loop over the dataset multiple times\n",
    "        model.train()\n",
    "        running_loss = 0.0\n",
    "        pbar = tqdm(trainloader) if use_tqdm else trainloader\n",
    "        for step, data in enumerate(pbar, 1):\n",
    "            # get the inputs; data is a list of [inputs, labels]\n",
    "            inputs = data[\"data\"].to(device)\n",
    "            labels = data[\"target\"].to(device)\n",
    "            # zero the parameter gradients\n",
    "            optimizer.zero_grad()\n",
    "            # forward + backward + optimize\n",
    "            outputs = model(inputs)\n",
    "            loss = loss_function(outputs, labels.squeeze().long())\n",
    "            loss.backward()\n",
    "            optimizer.step()\n",
    "\n",
    "            # print statistics\n",
    "            running_loss += loss.item()\n",
    "            if use_tqdm and step > 0 and step % 50 == 0:\n",
    "                pbar.set_description(\n",
    "                    f\"[{epoch + 1}, {step}] loss: {running_loss / step:.4g}\")\n",
    "        history['train_loss'].append((epoch, running_loss / step))\n",
    "\n",
    "        # At the end of the epoch, evaluate model on validation\n",
    "        model.eval();  # Activate evaluation mode\n",
    "        running_loss = 0.0\n",
    "        y_true = []\n",
    "        y_pred = []\n",
    "        with torch.no_grad():\n",
    "            pbar = tqdm(valloader) if use_tqdm else valloader\n",
    "            for step, data in enumerate(pbar, 1):\n",
    "                inputs = data[\"data\"].to(device)\n",
    "                labels = data[\"target\"].to(device)\n",
    "                outputs = model(inputs)\n",
    "                running_loss += loss_function(outputs, labels.squeeze().long()).item()\n",
    "                _, predicted = torch.max(outputs.data, 1)\n",
    "                y_true.extend(labels.cpu().numpy())\n",
    "                y_pred.extend(predicted.cpu().numpy())\n",
    "        history['val_b_accuracy'].append(metrics.balanced_accuracy_score(y_true, y_pred))\n",
    "        history['val_loss'].append((epoch, running_loss / step))\n",
    "    \n",
    "    return history"
   ]
  },
  {
   "cell_type": "code",
   "execution_count": 19,
   "id": "3548f198",
   "metadata": {},
   "outputs": [],
   "source": [
    "def run_experiment3(model, epochs, trainloader, testloader,\n",
    "                    optimizer_class=optim.SGD, lr=0.001, weight_decay=0.0,\n",
    "                    use_tqdm=True):\n",
    "    loss_function = nn.CrossEntropyLoss()\n",
    "    optimizer = optimizer_class(model.parameters(), lr=lr,\n",
    "                                weight_decay=weight_decay)\n",
    "    history = train_and_eval(\n",
    "        model, optimizer, loss_function, trainloader, epochs,\n",
    "        valloader=testloader, use_tqdm=use_tqdm)\n",
    "    #test_results = eval(model, testloader, use_tqdm=use_tqdm)\n",
    "\n",
    "    experiment = {\n",
    "        'arquitecture': str(model), 'loss': str(loss_function),\n",
    "        'epochs': epochs, 'lr': lr, 'optimizer': str(optimizer_class),\n",
    "        'weight_decay': weight_decay\n",
    "    }\n",
    "    experiment.update(history)\n",
    "    #experiment.update(test_results)\n",
    "    return experiment"
   ]
  },
  {
   "cell_type": "code",
   "execution_count": 20,
   "id": "4acf3f05",
   "metadata": {},
   "outputs": [
    {
     "data": {
      "application/vnd.jupyter.widget-view+json": {
       "model_id": "f396a0bc44124964a97fde1ae10ccafa",
       "version_major": 2,
       "version_minor": 0
      },
      "text/plain": [
       "  0%|          | 0/76489 [00:00<?, ?it/s]"
      ]
     },
     "metadata": {},
     "output_type": "display_data"
    },
    {
     "data": {
      "application/vnd.jupyter.widget-view+json": {
       "model_id": "c854162ef35f4b05b8ba57e3a4bd68b5",
       "version_major": 2,
       "version_minor": 0
      },
      "text/plain": [
       "  0%|          | 0/19123 [00:00<?, ?it/s]"
      ]
     },
     "metadata": {},
     "output_type": "display_data"
    },
    {
     "data": {
      "application/vnd.jupyter.widget-view+json": {
       "model_id": "6eec2fa841cf486c8b7b3e70013fbe92",
       "version_major": 2,
       "version_minor": 0
      },
      "text/plain": [
       "  0%|          | 0/76489 [00:00<?, ?it/s]"
      ]
     },
     "metadata": {},
     "output_type": "display_data"
    },
    {
     "data": {
      "application/vnd.jupyter.widget-view+json": {
       "model_id": "e87912e9ce614887a5929a94917df59a",
       "version_major": 2,
       "version_minor": 0
      },
      "text/plain": [
       "  0%|          | 0/19123 [00:00<?, ?it/s]"
      ]
     },
     "metadata": {},
     "output_type": "display_data"
    },
    {
     "data": {
      "application/vnd.jupyter.widget-view+json": {
       "model_id": "61b32681f09545deab712ab11c1e7839",
       "version_major": 2,
       "version_minor": 0
      },
      "text/plain": [
       "  0%|          | 0/76489 [00:00<?, ?it/s]"
      ]
     },
     "metadata": {},
     "output_type": "display_data"
    },
    {
     "data": {
      "application/vnd.jupyter.widget-view+json": {
       "model_id": "401edc5ef3c047b2afff8b48f41477e8",
       "version_major": 2,
       "version_minor": 0
      },
      "text/plain": [
       "  0%|          | 0/19123 [00:00<?, ?it/s]"
      ]
     },
     "metadata": {},
     "output_type": "display_data"
    },
    {
     "data": {
      "application/vnd.jupyter.widget-view+json": {
       "model_id": "0d4f1d6b7293435b91014687a0c3aef9",
       "version_major": 2,
       "version_minor": 0
      },
      "text/plain": [
       "  0%|          | 0/76489 [00:00<?, ?it/s]"
      ]
     },
     "metadata": {},
     "output_type": "display_data"
    },
    {
     "data": {
      "application/vnd.jupyter.widget-view+json": {
       "model_id": "982eec90e00742ec836d992a4f88831c",
       "version_major": 2,
       "version_minor": 0
      },
      "text/plain": [
       "  0%|          | 0/19123 [00:00<?, ?it/s]"
      ]
     },
     "metadata": {},
     "output_type": "display_data"
    },
    {
     "data": {
      "application/vnd.jupyter.widget-view+json": {
       "model_id": "0bbd78376da644de885c5c4e4bf8fe98",
       "version_major": 2,
       "version_minor": 0
      },
      "text/plain": [
       "  0%|          | 0/76489 [00:00<?, ?it/s]"
      ]
     },
     "metadata": {},
     "output_type": "display_data"
    },
    {
     "data": {
      "application/vnd.jupyter.widget-view+json": {
       "model_id": "03f6861cecda4347aad2aa0212291724",
       "version_major": 2,
       "version_minor": 0
      },
      "text/plain": [
       "  0%|          | 0/19123 [00:00<?, ?it/s]"
      ]
     },
     "metadata": {},
     "output_type": "display_data"
    }
   ],
   "source": [
    "experiment=run_experiment3(model,5, train_loader, test_loader,optimizer_class=optim.Adam, lr=0.001)"
   ]
  },
  {
   "cell_type": "code",
   "execution_count": 21,
   "id": "f3925285",
   "metadata": {},
   "outputs": [
    {
     "data": {
      "text/plain": [
       "{'arquitecture': 'MeliLSTM(\\n  (embeddings): Embedding(50002, 300, padding_idx=0)\\n  (lstm): LSTM(300, 64, batch_first=True, dropout=0.1)\\n  (classification_layer): Linear(in_features=64, out_features=632, bias=True)\\n)',\n",
       " 'loss': 'CrossEntropyLoss()',\n",
       " 'epochs': 5,\n",
       " 'lr': 0.001,\n",
       " 'optimizer': \"<class 'torch.optim.adam.Adam'>\",\n",
       " 'weight_decay': 0.0,\n",
       " 'train_loss': [(0, 1.4479048966295425),\n",
       "  (1, 0.8660103501303337),\n",
       "  (2, 0.7987806300315071),\n",
       "  (3, 0.7652812931065133),\n",
       "  (4, 0.7456448933713298)],\n",
       " 'val_loss': [(0, 0.9354403606714679),\n",
       "  (1, 0.8293983664772522),\n",
       "  (2, 0.7886142693411285),\n",
       "  (3, 0.7666316921671508),\n",
       "  (4, 0.7529550190072725)],\n",
       " 'val_b_accuracy': [0.7852986636360582,\n",
       "  0.8080257862456651,\n",
       "  0.816948692278112,\n",
       "  0.8233120943989427,\n",
       "  0.8266651283098041]}"
      ]
     },
     "execution_count": 21,
     "metadata": {},
     "output_type": "execute_result"
    }
   ],
   "source": [
    "experiment"
   ]
  },
  {
   "cell_type": "code",
   "execution_count": 22,
   "id": "c5c08478",
   "metadata": {},
   "outputs": [],
   "source": [
    "def eval(model, dataloader, prefix='test_', use_tqdm=True):\n",
    "    model.eval();  # Activate evaluation mode\n",
    "    y_true = []\n",
    "    y_pred = []\n",
    "    with torch.no_grad():\n",
    "        pbar = tqdm(dataloader) if use_tqdm else dataloader\n",
    "        for data in pbar:\n",
    "            inputs = data[\"data\"].to(device)\n",
    "            labels = data[\"target\"].to(device)\n",
    "            outputs = model(inputs)\n",
    "            _, predicted = torch.max(outputs.data, 1)\n",
    "            y_true.extend(labels.cpu().numpy())\n",
    "            y_pred.extend(predicted.cpu().numpy())\n",
    "\n",
    "    return {\n",
    "        prefix + 'balanced_accuracy_score': metrics.balanced_accuracy_score(y_true, y_pred),\n",
    "        prefix + 'f1': metrics.f1_score(y_true, y_pred, average='macro'),\n",
    "    }\n"
   ]
  },
  {
   "cell_type": "code",
   "execution_count": 23,
   "id": "1acac734",
   "metadata": {},
   "outputs": [
    {
     "data": {
      "application/vnd.jupyter.widget-view+json": {
       "model_id": "39e9559ec04c42e197f0bfd1384f822d",
       "version_major": 2,
       "version_minor": 0
      },
      "text/plain": [
       "  0%|          | 0/995 [00:00<?, ?it/s]"
      ]
     },
     "metadata": {},
     "output_type": "display_data"
    },
    {
     "data": {
      "text/plain": [
       "{'test_balanced_accuracy_score': 0.8952223593950336,\n",
       " 'test_f1': 0.8946448223756368}"
      ]
     },
     "execution_count": 23,
     "metadata": {},
     "output_type": "execute_result"
    }
   ],
   "source": [
    "eval(model, val_loader)"
   ]
  },
  {
   "cell_type": "code",
   "execution_count": 25,
   "id": "2557bdc6",
   "metadata": {},
   "outputs": [],
   "source": [
    "import seaborn"
   ]
  },
  {
   "cell_type": "code",
   "execution_count": 26,
   "id": "c37e123e",
   "metadata": {
    "scrolled": false
   },
   "outputs": [
    {
     "data": {
      "text/plain": [
       "<AxesSubplot:xlabel='epoch', ylabel='loss'>"
      ]
     },
     "execution_count": 26,
     "metadata": {},
     "output_type": "execute_result"
    },
    {
     "data": {
      "image/png": "[encoded data removed]",
      "text/plain": [
       "<Figure size 640x480 with 1 Axes>"
      ]
     },
     "metadata": {},
     "output_type": "display_data"
    }
   ],
   "source": [
    "data = []\n",
    "for epoch, (train_loss, val_loss) in enumerate(zip(\n",
    "        experiment['train_loss'], experiment['val_loss'])):\n",
    "    data.append((epoch, 'train', train_loss[1]))\n",
    "    data.append((epoch, 'val', val_loss[1]))\n",
    "data = pd.DataFrame(data=data, columns=['epoch', 'dataset', 'loss'])\n",
    "seaborn.pointplot(\n",
    "    data=data, x='epoch', y='loss', hue='dataset'\n",
    ")"
   ]
  },
  {
   "cell_type": "markdown",
   "id": "5683514d",
   "metadata": {},
   "source": [
    "En este práctico dicidimos utilizar una red recurrent para entrenar nuestra red para predecir categorias de MELI a partir de títulos de publicaciones. En cuanto a preprocesamiento de datos definimos exactamente lo mismo que en nuestro modelo MLP. Cuando definimos la red, modificamos el tamaño de la salida de 1 a 632 ya que son la cantidad de clases posibles que tenemos y decidimos entrenar nuestros propios embeddings.\n",
    "\n",
    "En un primer momento nos dispusimos a probar un modelo simple, probamos un modelo con una configuración similar al ejemplo que vimos en clases, desactivando solamente la función de activación por el hecho de que usamos cross entropy loss y entendemos que ya incorpora una softmax y con esto vimos una loss que bajaba bastante bien train y se veía también bien en test y un accuracy en test de 0.89 por lo que decidimos tomar esta como mejor configuración posible con temor a llegar un overfitting si tratabamos de subir el accuracy.\n",
    "\n",
    "En el futuro creemos que probar con algunos parametros e incluso cambiando de estructura nos podría ayudar a mejorar nuestras métricas.\n"
   ]
  }
 ],
 "metadata": {
  "kernelspec": {
   "display_name": "Python 3 (ipykernel)",
   "language": "python",
   "name": "python3"
  },
  "language_info": {
   "codemirror_mode": {
    "name": "ipython",
    "version": 3
   },
   "file_extension": ".py",
   "mimetype": "text/x-python",
   "name": "python",
   "nbconvert_exporter": "python",
   "pygments_lexer": "ipython3",
   "version": "3.9.5"
  }
 },
 "nbformat": 4,
 "nbformat_minor": 5
}
